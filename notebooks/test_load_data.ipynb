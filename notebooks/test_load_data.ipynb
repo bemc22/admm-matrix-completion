{
 "cells": [
  {
   "cell_type": "code",
   "execution_count": 4,
   "source": [
    "import os \r\n",
    "\r\n",
    "os.chdir(r\"G:\\Mi unidad\\2021-I\\optimizacion\\admm-matrix-completion\")\r\n",
    "\r\n",
    "from data import load_data\r\n",
    "\r\n"
   ],
   "outputs": [
    {
     "output_type": "stream",
     "name": "stdout",
     "text": [
      " El volumen de la unidad G es Google Drive\n",
      " El n�mero de serie del volumen es: 1983-1116\n",
      "\n",
      " Directorio de G:\\Mi unidad\\2021-I\\optimizacion\\admm-matrix-completion\n",
      "\n",
      "04/10/2021  09:38 a.�m.    <DIR>          .\n",
      "04/10/2021  09:25 a.�m.    <DIR>          ..\n",
      "04/10/2021  09:27 a.�m.                53 README.md.txt\n",
      "04/10/2021  09:38 a.�m.    <DIR>          notebooks\n",
      "04/10/2021  09:32 a.�m.    <DIR>          core\n",
      "04/10/2021  09:32 a.�m.    <DIR>          imgs\n",
      "04/10/2021  09:36 a.�m.               219 data.py\n",
      "04/10/2021  09:38 a.�m.    <DIR>          __pycache__\n",
      "               2 archivos            272 bytes\n",
      "               6 dirs  61.852.065.792 bytes libres\n"
     ]
    }
   ],
   "metadata": {}
  },
  {
   "cell_type": "code",
   "execution_count": null,
   "source": [],
   "outputs": [],
   "metadata": {}
  }
 ],
 "metadata": {
  "orig_nbformat": 4,
  "language_info": {
   "name": "python",
   "version": "3.9.6",
   "mimetype": "text/x-python",
   "codemirror_mode": {
    "name": "ipython",
    "version": 3
   },
   "pygments_lexer": "ipython3",
   "nbconvert_exporter": "python",
   "file_extension": ".py"
  },
  "kernelspec": {
   "name": "python3",
   "display_name": "Python 3.9.6 64-bit ('deep-learning': conda)"
  },
  "interpreter": {
   "hash": "d9174ac900089ecefb66814388a847cc11683d39e1edab0499ac3d6111fc5224"
  }
 },
 "nbformat": 4,
 "nbformat_minor": 2
}